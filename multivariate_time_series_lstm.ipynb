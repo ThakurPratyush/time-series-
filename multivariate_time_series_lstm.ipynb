{
 "cells": [
  {
   "cell_type": "code",
   "execution_count": 44,
   "id": "ba016a10-fff4-4ba1-b9fc-61527d7a1dc0",
   "metadata": {},
   "outputs": [],
   "source": [
    "import pandas as pd\n",
    "import matplotlib as mpl\n",
    "import matplotlib.pyplot as plt\n",
    "from sklearn.model_selection import train_test_split\n",
    "from keras.preprocessing.sequence import TimeseriesGenerator\n",
    "from sklearn.preprocessing import MinMaxScaler, StandardScaler"
   ]
  },
  {
   "cell_type": "code",
   "execution_count": 45,
   "id": "40aa6442-b031-406b-b610-0a455b08946e",
   "metadata": {},
   "outputs": [],
   "source": [
    "import tensorflow as tf\n",
    "mpl.rcParams['figure.figsize'] = (10,8)\n",
    "mpl.rcParams['axes.grid'] = False"
   ]
  },
  {
   "cell_type": "code",
   "execution_count": 46,
   "id": "5ccdb41a-5e27-44bb-89f4-97c35bcdea09",
   "metadata": {},
   "outputs": [],
   "source": [
    "df = pd.read_csv(\"https://archive.ics.uci.edu/ml/machine-learning-databases/00374/energydata_complete.csv\")"
   ]
  },
  {
   "cell_type": "code",
   "execution_count": 47,
   "id": "757dc45c-a9d7-4018-9574-e97a13fe83f7",
   "metadata": {},
   "outputs": [],
   "source": [
    "# df.head()"
   ]
  },
  {
   "cell_type": "code",
   "execution_count": 48,
   "id": "63ad1a06-4d00-45a8-ba6c-892844eaca0b",
   "metadata": {},
   "outputs": [
    {
     "name": "stdout",
     "output_type": "stream",
     "text": [
      "<class 'pandas.core.frame.DataFrame'>\n",
      "RangeIndex: 19735 entries, 0 to 19734\n",
      "Data columns (total 29 columns):\n",
      " #   Column       Non-Null Count  Dtype  \n",
      "---  ------       --------------  -----  \n",
      " 0   date         19735 non-null  object \n",
      " 1   Appliances   19735 non-null  int64  \n",
      " 2   lights       19735 non-null  int64  \n",
      " 3   T1           19735 non-null  float64\n",
      " 4   RH_1         19735 non-null  float64\n",
      " 5   T2           19735 non-null  float64\n",
      " 6   RH_2         19735 non-null  float64\n",
      " 7   T3           19735 non-null  float64\n",
      " 8   RH_3         19735 non-null  float64\n",
      " 9   T4           19735 non-null  float64\n",
      " 10  RH_4         19735 non-null  float64\n",
      " 11  T5           19735 non-null  float64\n",
      " 12  RH_5         19735 non-null  float64\n",
      " 13  T6           19735 non-null  float64\n",
      " 14  RH_6         19735 non-null  float64\n",
      " 15  T7           19735 non-null  float64\n",
      " 16  RH_7         19735 non-null  float64\n",
      " 17  T8           19735 non-null  float64\n",
      " 18  RH_8         19735 non-null  float64\n",
      " 19  T9           19735 non-null  float64\n",
      " 20  RH_9         19735 non-null  float64\n",
      " 21  T_out        19735 non-null  float64\n",
      " 22  Press_mm_hg  19735 non-null  float64\n",
      " 23  RH_out       19735 non-null  float64\n",
      " 24  Windspeed    19735 non-null  float64\n",
      " 25  Visibility   19735 non-null  float64\n",
      " 26  Tdewpoint    19735 non-null  float64\n",
      " 27  rv1          19735 non-null  float64\n",
      " 28  rv2          19735 non-null  float64\n",
      "dtypes: float64(26), int64(2), object(1)\n",
      "memory usage: 4.4+ MB\n"
     ]
    }
   ],
   "source": [
    "df.info()"
   ]
  },
  {
   "cell_type": "code",
   "execution_count": 49,
   "id": "e5d62b17-44ba-40da-aa02-41d651733847",
   "metadata": {},
   "outputs": [
    {
     "name": "stderr",
     "output_type": "stream",
     "text": [
      "C:\\Users\\thaku\\AppData\\Local\\Temp\\ipykernel_11996\\1020452881.py:1: UserWarning: The argument 'infer_datetime_format' is deprecated and will be removed in a future version. A strict version of it is now the default, see https://pandas.pydata.org/pdeps/0004-consistent-to-datetime-parsing.html. You can safely remove this argument.\n",
      "  df['date']= pd.to_datetime(df['date'], infer_datetime_format = True)\n"
     ]
    }
   ],
   "source": [
    "df['date']= pd.to_datetime(df['date'], infer_datetime_format = True)"
   ]
  },
  {
   "cell_type": "code",
   "execution_count": null,
   "id": "0426fd1f-45c2-4842-86e3-94e2a30f97b4",
   "metadata": {},
   "outputs": [],
   "source": [
    "df.set_index('date')[['Appliances', 'lights', 'T1', 'RH_1','Visibility']].plot(subplots = True)"
   ]
  },
  {
   "cell_type": "raw",
   "id": "b1336e51-10e4-4ced-a659-91df3c41ed99",
   "metadata": {},
   "source": [
    "# refer data prep for lstm/rnn sheet for more info"
   ]
  },
  {
   "cell_type": "code",
   "execution_count": 129,
   "id": "9f3ca18c-db4f-435e-88e0-664d8fa135de",
   "metadata": {},
   "outputs": [],
   "source": [
    "df_input = df[['Appliances', 'lights', 'T1', 'RH_1']]"
   ]
  },
  {
   "cell_type": "code",
   "execution_count": 130,
   "id": "2084a69c-c606-4d73-8b8a-e693a5389b1e",
   "metadata": {},
   "outputs": [
    {
     "data": {
      "text/html": [
       "<div>\n",
       "<style scoped>\n",
       "    .dataframe tbody tr th:only-of-type {\n",
       "        vertical-align: middle;\n",
       "    }\n",
       "\n",
       "    .dataframe tbody tr th {\n",
       "        vertical-align: top;\n",
       "    }\n",
       "\n",
       "    .dataframe thead th {\n",
       "        text-align: right;\n",
       "    }\n",
       "</style>\n",
       "<table border=\"1\" class=\"dataframe\">\n",
       "  <thead>\n",
       "    <tr style=\"text-align: right;\">\n",
       "      <th></th>\n",
       "      <th>Appliances</th>\n",
       "      <th>lights</th>\n",
       "      <th>T1</th>\n",
       "      <th>RH_1</th>\n",
       "    </tr>\n",
       "  </thead>\n",
       "  <tbody>\n",
       "    <tr>\n",
       "      <th>count</th>\n",
       "      <td>19735.000000</td>\n",
       "      <td>19735.000000</td>\n",
       "      <td>19735.000000</td>\n",
       "      <td>19735.000000</td>\n",
       "    </tr>\n",
       "    <tr>\n",
       "      <th>mean</th>\n",
       "      <td>97.694958</td>\n",
       "      <td>3.801875</td>\n",
       "      <td>21.686571</td>\n",
       "      <td>40.259739</td>\n",
       "    </tr>\n",
       "    <tr>\n",
       "      <th>std</th>\n",
       "      <td>102.524891</td>\n",
       "      <td>7.935988</td>\n",
       "      <td>1.606066</td>\n",
       "      <td>3.979299</td>\n",
       "    </tr>\n",
       "    <tr>\n",
       "      <th>min</th>\n",
       "      <td>10.000000</td>\n",
       "      <td>0.000000</td>\n",
       "      <td>16.790000</td>\n",
       "      <td>27.023333</td>\n",
       "    </tr>\n",
       "    <tr>\n",
       "      <th>25%</th>\n",
       "      <td>50.000000</td>\n",
       "      <td>0.000000</td>\n",
       "      <td>20.760000</td>\n",
       "      <td>37.333333</td>\n",
       "    </tr>\n",
       "    <tr>\n",
       "      <th>50%</th>\n",
       "      <td>60.000000</td>\n",
       "      <td>0.000000</td>\n",
       "      <td>21.600000</td>\n",
       "      <td>39.656667</td>\n",
       "    </tr>\n",
       "    <tr>\n",
       "      <th>75%</th>\n",
       "      <td>100.000000</td>\n",
       "      <td>0.000000</td>\n",
       "      <td>22.600000</td>\n",
       "      <td>43.066667</td>\n",
       "    </tr>\n",
       "    <tr>\n",
       "      <th>max</th>\n",
       "      <td>1080.000000</td>\n",
       "      <td>70.000000</td>\n",
       "      <td>26.260000</td>\n",
       "      <td>63.360000</td>\n",
       "    </tr>\n",
       "  </tbody>\n",
       "</table>\n",
       "</div>"
      ],
      "text/plain": [
       "         Appliances        lights            T1          RH_1\n",
       "count  19735.000000  19735.000000  19735.000000  19735.000000\n",
       "mean      97.694958      3.801875     21.686571     40.259739\n",
       "std      102.524891      7.935988      1.606066      3.979299\n",
       "min       10.000000      0.000000     16.790000     27.023333\n",
       "25%       50.000000      0.000000     20.760000     37.333333\n",
       "50%       60.000000      0.000000     21.600000     39.656667\n",
       "75%      100.000000      0.000000     22.600000     43.066667\n",
       "max     1080.000000     70.000000     26.260000     63.360000"
      ]
     },
     "execution_count": 130,
     "metadata": {},
     "output_type": "execute_result"
    }
   ],
   "source": [
    "df_input.describe()"
   ]
  },
  {
   "cell_type": "code",
   "execution_count": 131,
   "id": "626f6580-7c86-4c2c-8abd-c310af9905df",
   "metadata": {},
   "outputs": [
    {
     "data": {
      "text/html": [
       "<div>\n",
       "<style scoped>\n",
       "    .dataframe tbody tr th:only-of-type {\n",
       "        vertical-align: middle;\n",
       "    }\n",
       "\n",
       "    .dataframe tbody tr th {\n",
       "        vertical-align: top;\n",
       "    }\n",
       "\n",
       "    .dataframe thead th {\n",
       "        text-align: right;\n",
       "    }\n",
       "</style>\n",
       "<table border=\"1\" class=\"dataframe\">\n",
       "  <thead>\n",
       "    <tr style=\"text-align: right;\">\n",
       "      <th></th>\n",
       "      <th>date</th>\n",
       "      <th>Appliances</th>\n",
       "      <th>lights</th>\n",
       "      <th>T1</th>\n",
       "      <th>RH_1</th>\n",
       "      <th>T2</th>\n",
       "      <th>RH_2</th>\n",
       "      <th>T3</th>\n",
       "      <th>RH_3</th>\n",
       "      <th>T4</th>\n",
       "      <th>...</th>\n",
       "      <th>T9</th>\n",
       "      <th>RH_9</th>\n",
       "      <th>T_out</th>\n",
       "      <th>Press_mm_hg</th>\n",
       "      <th>RH_out</th>\n",
       "      <th>Windspeed</th>\n",
       "      <th>Visibility</th>\n",
       "      <th>Tdewpoint</th>\n",
       "      <th>rv1</th>\n",
       "      <th>rv2</th>\n",
       "    </tr>\n",
       "  </thead>\n",
       "  <tbody>\n",
       "    <tr>\n",
       "      <th>11</th>\n",
       "      <td>2016-01-11 18:50:00</td>\n",
       "      <td>580</td>\n",
       "      <td>60</td>\n",
       "      <td>20.066667</td>\n",
       "      <td>46.396667</td>\n",
       "      <td>19.426667</td>\n",
       "      <td>44.400000</td>\n",
       "      <td>19.790000</td>\n",
       "      <td>44.826667</td>\n",
       "      <td>19.000000</td>\n",
       "      <td>...</td>\n",
       "      <td>16.890000</td>\n",
       "      <td>45.290000</td>\n",
       "      <td>5.983333</td>\n",
       "      <td>734.433333</td>\n",
       "      <td>91.166667</td>\n",
       "      <td>5.833333</td>\n",
       "      <td>40.000000</td>\n",
       "      <td>4.616667</td>\n",
       "      <td>8.827838</td>\n",
       "      <td>8.827838</td>\n",
       "    </tr>\n",
       "    <tr>\n",
       "      <th>314</th>\n",
       "      <td>2016-01-13 21:20:00</td>\n",
       "      <td>520</td>\n",
       "      <td>0</td>\n",
       "      <td>19.600000</td>\n",
       "      <td>41.530000</td>\n",
       "      <td>19.133333</td>\n",
       "      <td>40.900000</td>\n",
       "      <td>19.133333</td>\n",
       "      <td>42.860000</td>\n",
       "      <td>19.633333</td>\n",
       "      <td>...</td>\n",
       "      <td>16.700000</td>\n",
       "      <td>40.090000</td>\n",
       "      <td>2.900000</td>\n",
       "      <td>756.733333</td>\n",
       "      <td>88.666667</td>\n",
       "      <td>5.000000</td>\n",
       "      <td>36.333333</td>\n",
       "      <td>1.233333</td>\n",
       "      <td>13.360604</td>\n",
       "      <td>13.360604</td>\n",
       "    </tr>\n",
       "    <tr>\n",
       "      <th>392</th>\n",
       "      <td>2016-01-14 10:20:00</td>\n",
       "      <td>550</td>\n",
       "      <td>10</td>\n",
       "      <td>18.700000</td>\n",
       "      <td>43.433333</td>\n",
       "      <td>18.390000</td>\n",
       "      <td>42.090000</td>\n",
       "      <td>19.260000</td>\n",
       "      <td>42.526667</td>\n",
       "      <td>18.700000</td>\n",
       "      <td>...</td>\n",
       "      <td>16.890000</td>\n",
       "      <td>46.526667</td>\n",
       "      <td>2.033333</td>\n",
       "      <td>748.766667</td>\n",
       "      <td>94.333333</td>\n",
       "      <td>5.333333</td>\n",
       "      <td>40.000000</td>\n",
       "      <td>1.233333</td>\n",
       "      <td>46.261497</td>\n",
       "      <td>46.261497</td>\n",
       "    </tr>\n",
       "    <tr>\n",
       "      <th>393</th>\n",
       "      <td>2016-01-14 10:30:00</td>\n",
       "      <td>690</td>\n",
       "      <td>10</td>\n",
       "      <td>18.790000</td>\n",
       "      <td>43.766667</td>\n",
       "      <td>18.500000</td>\n",
       "      <td>42.060000</td>\n",
       "      <td>19.320000</td>\n",
       "      <td>43.145000</td>\n",
       "      <td>18.700000</td>\n",
       "      <td>...</td>\n",
       "      <td>16.890000</td>\n",
       "      <td>46.400000</td>\n",
       "      <td>2.100000</td>\n",
       "      <td>748.800000</td>\n",
       "      <td>94.000000</td>\n",
       "      <td>5.000000</td>\n",
       "      <td>40.000000</td>\n",
       "      <td>1.250000</td>\n",
       "      <td>25.351780</td>\n",
       "      <td>25.351780</td>\n",
       "    </tr>\n",
       "    <tr>\n",
       "      <th>394</th>\n",
       "      <td>2016-01-14 10:40:00</td>\n",
       "      <td>620</td>\n",
       "      <td>10</td>\n",
       "      <td>18.790000</td>\n",
       "      <td>43.693333</td>\n",
       "      <td>18.566667</td>\n",
       "      <td>41.726667</td>\n",
       "      <td>19.693333</td>\n",
       "      <td>44.860000</td>\n",
       "      <td>18.760000</td>\n",
       "      <td>...</td>\n",
       "      <td>16.890000</td>\n",
       "      <td>46.260000</td>\n",
       "      <td>2.166667</td>\n",
       "      <td>748.833333</td>\n",
       "      <td>93.666667</td>\n",
       "      <td>4.666667</td>\n",
       "      <td>40.000000</td>\n",
       "      <td>1.266667</td>\n",
       "      <td>7.742551</td>\n",
       "      <td>7.742551</td>\n",
       "    </tr>\n",
       "    <tr>\n",
       "      <th>...</th>\n",
       "      <td>...</td>\n",
       "      <td>...</td>\n",
       "      <td>...</td>\n",
       "      <td>...</td>\n",
       "      <td>...</td>\n",
       "      <td>...</td>\n",
       "      <td>...</td>\n",
       "      <td>...</td>\n",
       "      <td>...</td>\n",
       "      <td>...</td>\n",
       "      <td>...</td>\n",
       "      <td>...</td>\n",
       "      <td>...</td>\n",
       "      <td>...</td>\n",
       "      <td>...</td>\n",
       "      <td>...</td>\n",
       "      <td>...</td>\n",
       "      <td>...</td>\n",
       "      <td>...</td>\n",
       "      <td>...</td>\n",
       "      <td>...</td>\n",
       "    </tr>\n",
       "    <tr>\n",
       "      <th>19586</th>\n",
       "      <td>2016-05-26 17:20:00</td>\n",
       "      <td>600</td>\n",
       "      <td>0</td>\n",
       "      <td>24.390000</td>\n",
       "      <td>44.066667</td>\n",
       "      <td>25.264286</td>\n",
       "      <td>37.528571</td>\n",
       "      <td>26.972500</td>\n",
       "      <td>39.042500</td>\n",
       "      <td>24.700000</td>\n",
       "      <td>...</td>\n",
       "      <td>22.700000</td>\n",
       "      <td>43.590000</td>\n",
       "      <td>20.833333</td>\n",
       "      <td>756.000000</td>\n",
       "      <td>45.333333</td>\n",
       "      <td>2.000000</td>\n",
       "      <td>40.000000</td>\n",
       "      <td>8.466667</td>\n",
       "      <td>9.560651</td>\n",
       "      <td>9.560651</td>\n",
       "    </tr>\n",
       "    <tr>\n",
       "      <th>19587</th>\n",
       "      <td>2016-05-26 17:30:00</td>\n",
       "      <td>520</td>\n",
       "      <td>0</td>\n",
       "      <td>24.390000</td>\n",
       "      <td>43.366667</td>\n",
       "      <td>25.060000</td>\n",
       "      <td>37.120000</td>\n",
       "      <td>27.166667</td>\n",
       "      <td>39.126667</td>\n",
       "      <td>24.666667</td>\n",
       "      <td>...</td>\n",
       "      <td>22.700000</td>\n",
       "      <td>43.590000</td>\n",
       "      <td>20.900000</td>\n",
       "      <td>755.950000</td>\n",
       "      <td>45.500000</td>\n",
       "      <td>2.000000</td>\n",
       "      <td>40.000000</td>\n",
       "      <td>8.600000</td>\n",
       "      <td>14.604373</td>\n",
       "      <td>14.604373</td>\n",
       "    </tr>\n",
       "    <tr>\n",
       "      <th>19684</th>\n",
       "      <td>2016-05-27 09:40:00</td>\n",
       "      <td>580</td>\n",
       "      <td>0</td>\n",
       "      <td>23.633333</td>\n",
       "      <td>47.226667</td>\n",
       "      <td>24.814000</td>\n",
       "      <td>43.472000</td>\n",
       "      <td>26.166667</td>\n",
       "      <td>40.500000</td>\n",
       "      <td>24.500000</td>\n",
       "      <td>...</td>\n",
       "      <td>22.890000</td>\n",
       "      <td>46.433333</td>\n",
       "      <td>15.900000</td>\n",
       "      <td>756.166667</td>\n",
       "      <td>79.333333</td>\n",
       "      <td>1.666667</td>\n",
       "      <td>61.000000</td>\n",
       "      <td>12.266667</td>\n",
       "      <td>27.740214</td>\n",
       "      <td>27.740214</td>\n",
       "    </tr>\n",
       "    <tr>\n",
       "      <th>19685</th>\n",
       "      <td>2016-05-27 09:50:00</td>\n",
       "      <td>660</td>\n",
       "      <td>0</td>\n",
       "      <td>23.760000</td>\n",
       "      <td>47.693333</td>\n",
       "      <td>25.497143</td>\n",
       "      <td>42.595714</td>\n",
       "      <td>26.033333</td>\n",
       "      <td>40.693333</td>\n",
       "      <td>24.500000</td>\n",
       "      <td>...</td>\n",
       "      <td>22.890000</td>\n",
       "      <td>46.290000</td>\n",
       "      <td>16.100000</td>\n",
       "      <td>756.183333</td>\n",
       "      <td>78.666667</td>\n",
       "      <td>1.333333</td>\n",
       "      <td>61.000000</td>\n",
       "      <td>12.333333</td>\n",
       "      <td>4.105907</td>\n",
       "      <td>4.105907</td>\n",
       "    </tr>\n",
       "    <tr>\n",
       "      <th>19695</th>\n",
       "      <td>2016-05-27 11:30:00</td>\n",
       "      <td>620</td>\n",
       "      <td>0</td>\n",
       "      <td>24.356667</td>\n",
       "      <td>48.326667</td>\n",
       "      <td>26.777143</td>\n",
       "      <td>39.567143</td>\n",
       "      <td>27.533333</td>\n",
       "      <td>41.963333</td>\n",
       "      <td>24.463333</td>\n",
       "      <td>...</td>\n",
       "      <td>23.033333</td>\n",
       "      <td>46.230000</td>\n",
       "      <td>19.100000</td>\n",
       "      <td>756.150000</td>\n",
       "      <td>69.000000</td>\n",
       "      <td>1.500000</td>\n",
       "      <td>64.000000</td>\n",
       "      <td>13.250000</td>\n",
       "      <td>11.703932</td>\n",
       "      <td>11.703932</td>\n",
       "    </tr>\n",
       "  </tbody>\n",
       "</table>\n",
       "<p>288 rows × 29 columns</p>\n",
       "</div>"
      ],
      "text/plain": [
       "                     date  Appliances  lights         T1       RH_1  \\\n",
       "11    2016-01-11 18:50:00         580      60  20.066667  46.396667   \n",
       "314   2016-01-13 21:20:00         520       0  19.600000  41.530000   \n",
       "392   2016-01-14 10:20:00         550      10  18.700000  43.433333   \n",
       "393   2016-01-14 10:30:00         690      10  18.790000  43.766667   \n",
       "394   2016-01-14 10:40:00         620      10  18.790000  43.693333   \n",
       "...                   ...         ...     ...        ...        ...   \n",
       "19586 2016-05-26 17:20:00         600       0  24.390000  44.066667   \n",
       "19587 2016-05-26 17:30:00         520       0  24.390000  43.366667   \n",
       "19684 2016-05-27 09:40:00         580       0  23.633333  47.226667   \n",
       "19685 2016-05-27 09:50:00         660       0  23.760000  47.693333   \n",
       "19695 2016-05-27 11:30:00         620       0  24.356667  48.326667   \n",
       "\n",
       "              T2       RH_2         T3       RH_3         T4  ...         T9  \\\n",
       "11     19.426667  44.400000  19.790000  44.826667  19.000000  ...  16.890000   \n",
       "314    19.133333  40.900000  19.133333  42.860000  19.633333  ...  16.700000   \n",
       "392    18.390000  42.090000  19.260000  42.526667  18.700000  ...  16.890000   \n",
       "393    18.500000  42.060000  19.320000  43.145000  18.700000  ...  16.890000   \n",
       "394    18.566667  41.726667  19.693333  44.860000  18.760000  ...  16.890000   \n",
       "...          ...        ...        ...        ...        ...  ...        ...   \n",
       "19586  25.264286  37.528571  26.972500  39.042500  24.700000  ...  22.700000   \n",
       "19587  25.060000  37.120000  27.166667  39.126667  24.666667  ...  22.700000   \n",
       "19684  24.814000  43.472000  26.166667  40.500000  24.500000  ...  22.890000   \n",
       "19685  25.497143  42.595714  26.033333  40.693333  24.500000  ...  22.890000   \n",
       "19695  26.777143  39.567143  27.533333  41.963333  24.463333  ...  23.033333   \n",
       "\n",
       "            RH_9      T_out  Press_mm_hg     RH_out  Windspeed  Visibility  \\\n",
       "11     45.290000   5.983333   734.433333  91.166667   5.833333   40.000000   \n",
       "314    40.090000   2.900000   756.733333  88.666667   5.000000   36.333333   \n",
       "392    46.526667   2.033333   748.766667  94.333333   5.333333   40.000000   \n",
       "393    46.400000   2.100000   748.800000  94.000000   5.000000   40.000000   \n",
       "394    46.260000   2.166667   748.833333  93.666667   4.666667   40.000000   \n",
       "...          ...        ...          ...        ...        ...         ...   \n",
       "19586  43.590000  20.833333   756.000000  45.333333   2.000000   40.000000   \n",
       "19587  43.590000  20.900000   755.950000  45.500000   2.000000   40.000000   \n",
       "19684  46.433333  15.900000   756.166667  79.333333   1.666667   61.000000   \n",
       "19685  46.290000  16.100000   756.183333  78.666667   1.333333   61.000000   \n",
       "19695  46.230000  19.100000   756.150000  69.000000   1.500000   64.000000   \n",
       "\n",
       "       Tdewpoint        rv1        rv2  \n",
       "11      4.616667   8.827838   8.827838  \n",
       "314     1.233333  13.360604  13.360604  \n",
       "392     1.233333  46.261497  46.261497  \n",
       "393     1.250000  25.351780  25.351780  \n",
       "394     1.266667   7.742551   7.742551  \n",
       "...          ...        ...        ...  \n",
       "19586   8.466667   9.560651   9.560651  \n",
       "19587   8.600000  14.604373  14.604373  \n",
       "19684  12.266667  27.740214  27.740214  \n",
       "19685  12.333333   4.105907   4.105907  \n",
       "19695  13.250000  11.703932  11.703932  \n",
       "\n",
       "[288 rows x 29 columns]"
      ]
     },
     "execution_count": 131,
     "metadata": {},
     "output_type": "execute_result"
    }
   ],
   "source": [
    "df.query(\"Appliances > 500\")"
   ]
  },
  {
   "cell_type": "code",
   "execution_count": 132,
   "id": "efe95d29-61ae-44e2-8fdd-ef9b01403609",
   "metadata": {},
   "outputs": [],
   "source": [
    "## there are outliers maybe"
   ]
  },
  {
   "cell_type": "raw",
   "id": "40d03e8f-51b2-4cb6-88bb-c3aa0257811a",
   "metadata": {},
   "source": [
    "dont use standardscaler when outliers are there can give poor perofrmance"
   ]
  },
  {
   "cell_type": "code",
   "execution_count": 133,
   "id": "6bb051f8-02b6-4244-a316-5f5477213622",
   "metadata": {},
   "outputs": [],
   "source": [
    "scaler = MinMaxScaler()"
   ]
  },
  {
   "cell_type": "code",
   "execution_count": 134,
   "id": "031cc235-965e-4078-8b77-42746547865a",
   "metadata": {},
   "outputs": [],
   "source": [
    "data_scaled = scaler.fit_transform(df_input)"
   ]
  },
  {
   "cell_type": "code",
   "execution_count": 135,
   "id": "c9f2d43a-b097-4161-90dc-f083c901c042",
   "metadata": {},
   "outputs": [
    {
     "data": {
      "text/plain": [
       "array([[0.04672897, 0.42857143, 0.32734952, 0.56618659],\n",
       "       [0.04672897, 0.42857143, 0.32734952, 0.54132648],\n",
       "       [0.03738318, 0.42857143, 0.32734952, 0.53050179],\n",
       "       ...,\n",
       "       [0.24299065, 0.14285714, 0.91974657, 0.53866618],\n",
       "       [0.38317757, 0.14285714, 0.91974657, 0.54949087],\n",
       "       [0.39252336, 0.14285714, 0.91974657, 0.53875791]])"
      ]
     },
     "execution_count": 135,
     "metadata": {},
     "output_type": "execute_result"
    }
   ],
   "source": [
    "data_scaled"
   ]
  },
  {
   "cell_type": "code",
   "execution_count": 136,
   "id": "6495d729-20fc-4d28-962b-9c5572607ced",
   "metadata": {},
   "outputs": [],
   "source": [
    "features = data_scaled ##first col has appliances and rest other \n",
    "target = data_scaled[:,0] #first column only # appliance is input as well as output"
   ]
  },
  {
   "cell_type": "code",
   "execution_count": 137,
   "id": "80e79237-1226-49a5-b520-65bb28f3c2df",
   "metadata": {},
   "outputs": [
    {
     "data": {
      "text/plain": [
       "array([[0.04672897, 0.42857143, 0.32734952, 0.56618659],\n",
       "       [0.04672897, 0.42857143, 0.32734952, 0.54132648],\n",
       "       [0.03738318, 0.42857143, 0.32734952, 0.53050179],\n",
       "       ...,\n",
       "       [0.24299065, 0.14285714, 0.91974657, 0.53866618],\n",
       "       [0.38317757, 0.14285714, 0.91974657, 0.54949087],\n",
       "       [0.39252336, 0.14285714, 0.91974657, 0.53875791]])"
      ]
     },
     "execution_count": 137,
     "metadata": {},
     "output_type": "execute_result"
    }
   ],
   "source": [
    "data_scaled"
   ]
  },
  {
   "cell_type": "code",
   "execution_count": 138,
   "id": "6578d628-43ed-4b02-8102-8c47229d87eb",
   "metadata": {},
   "outputs": [
    {
     "data": {
      "text/plain": [
       "(array([[[0.04672897, 0.42857143, 0.32734952, 0.56618659],\n",
       "         [0.04672897, 0.42857143, 0.32734952, 0.54132648]]]),\n",
       " array([0.03738318]))"
      ]
     },
     "execution_count": 138,
     "metadata": {},
     "output_type": "execute_result"
    }
   ],
   "source": [
    "TimeseriesGenerator(features, target, length = 2,sampling_rate =1,batch_size = 1)[0]\n",
    "#length = 2 means 2 inputs are given that is 2 rows which has 20 min data \n",
    "# and sampling rate 1 ensures that 1 ourput for each of 2 inputs \n",
    "\n",
    "# this geneartor was for example genuiine one is stated later"
   ]
  },
  {
   "cell_type": "code",
   "execution_count": 139,
   "id": "a535e78c-2bf0-43b3-93c1-ad93835b7706",
   "metadata": {},
   "outputs": [],
   "source": [
    "## these are 2 rows which are input and third one is the prediction"
   ]
  },
  {
   "cell_type": "code",
   "execution_count": 140,
   "id": "128086e8-941a-467e-aeef-bf6283daec14",
   "metadata": {},
   "outputs": [],
   "source": [
    "x_train, x_test, y_train, y_test = train_test_split(features,target,test_size = 0.20,random_state=123, shuffle = False)\n",
    "## shuffle is false since otherwise while taking out the train and test data we would be shuffling and changing the order\n",
    "## but since here sequence matters we dont want to do that"
   ]
  },
  {
   "cell_type": "code",
   "execution_count": 141,
   "id": "4217c557-9905-4854-bdeb-1c0f1982fe0c",
   "metadata": {},
   "outputs": [
    {
     "data": {
      "text/plain": [
       "(15788, 4)"
      ]
     },
     "execution_count": 141,
     "metadata": {},
     "output_type": "execute_result"
    }
   ],
   "source": [
    "x_train.shape"
   ]
  },
  {
   "cell_type": "code",
   "execution_count": 142,
   "id": "4dcf50e4-346e-423b-b22d-2f3d07a677c2",
   "metadata": {},
   "outputs": [
    {
     "data": {
      "text/plain": [
       "(3947, 4)"
      ]
     },
     "execution_count": 142,
     "metadata": {},
     "output_type": "execute_result"
    }
   ],
   "source": [
    "x_test.shape"
   ]
  },
  {
   "cell_type": "code",
   "execution_count": 143,
   "id": "a9249fa4-5006-4c4c-bb1c-9b759fa631f6",
   "metadata": {},
   "outputs": [],
   "source": [
    "win_length = 720 # 10 min data for 1 row 720 gives 5 days of data\n",
    "batch_size = 32 # these nunoer of input would be given at once to our model\n",
    "num_features = 4\n",
    "train_generator = TimeseriesGenerator(x_train,y_train, length = win_length, sampling_rate = 1, batch_size = batch_size)\n",
    "test_generator = TimeseriesGenerator(x_test, y_test,length = win_length , sampling_rate =1  , batch_size = batch_size )"
   ]
  },
  {
   "cell_type": "code",
   "execution_count": 144,
   "id": "63280d8c-9e33-4f0f-b118-53538a4d963d",
   "metadata": {},
   "outputs": [
    {
     "data": {
      "text/plain": [
       "720"
      ]
     },
     "execution_count": 144,
     "metadata": {},
     "output_type": "execute_result"
    }
   ],
   "source": [
    "win_length"
   ]
  },
  {
   "cell_type": "code",
   "execution_count": 145,
   "id": "67200cc4-6fb7-42fa-848c-3b9d00c312f2",
   "metadata": {},
   "outputs": [
    {
     "data": {
      "text/plain": [
       "((32, 720, 4), (32,))"
      ]
     },
     "execution_count": 145,
     "metadata": {},
     "output_type": "execute_result"
    }
   ],
   "source": [
    "x, y = train_generator[0]\n",
    "x.shape, y.shape"
   ]
  },
  {
   "cell_type": "code",
   "execution_count": 146,
   "id": "e6485a67-db60-497e-8156-64c97a6e5fd1",
   "metadata": {},
   "outputs": [
    {
     "data": {
      "text/plain": [
       "array([0.06542056, 0.13084112, 0.34579439, 0.26168224, 0.24299065,\n",
       "       0.38317757, 0.25233645, 0.27102804, 0.31775701, 0.24299065,\n",
       "       0.51401869, 1.        , 0.69158879, 0.35514019, 0.31775701,\n",
       "       0.30841121, 0.26168224, 0.20560748, 0.10280374, 0.09345794,\n",
       "       0.08411215, 0.09345794, 0.11214953, 0.12149533, 0.09345794,\n",
       "       0.08411215, 0.08411215, 0.09345794, 0.09345794, 0.1682243 ,\n",
       "       0.41121495, 0.18691589])"
      ]
     },
     "execution_count": 146,
     "metadata": {},
     "output_type": "execute_result"
    }
   ],
   "source": [
    "train_generator[0][1]\n",
    "## 32 target columns "
   ]
  },
  {
   "cell_type": "code",
   "execution_count": 147,
   "id": "9477281c-0a26-45ef-8bb7-449d6623b96a",
   "metadata": {},
   "outputs": [
    {
     "data": {
      "text/plain": [
       "(32, 32)"
      ]
     },
     "execution_count": 147,
     "metadata": {},
     "output_type": "execute_result"
    }
   ],
   "source": [
    "len(train_generator[0][1]), len(test_generator[0][1])"
   ]
  },
  {
   "cell_type": "code",
   "execution_count": 148,
   "id": "b49aa361-b3b6-4c64-93ae-a11b09099816",
   "metadata": {},
   "outputs": [
    {
     "data": {
      "text/plain": [
       "array([[[0.3364486 , 0.        , 0.48574446, 0.30923768],\n",
       "        [0.54205607, 0.        , 0.48574446, 0.3055683 ],\n",
       "        [0.28971963, 0.        , 0.48574446, 0.30455921],\n",
       "        ...,\n",
       "        [0.08411215, 0.        , 0.58078141, 0.24428951],\n",
       "        [0.10280374, 0.        , 0.58078141, 0.23942758],\n",
       "        [0.06542056, 0.        , 0.58078141, 0.23227227]],\n",
       "\n",
       "       [[0.54205607, 0.        , 0.48574446, 0.3055683 ],\n",
       "        [0.28971963, 0.        , 0.48574446, 0.30455921],\n",
       "        [0.28037383, 0.14285714, 0.48574446, 0.30290799],\n",
       "        ...,\n",
       "        [0.10280374, 0.        , 0.58078141, 0.23942758],\n",
       "        [0.06542056, 0.        , 0.58078141, 0.23227227],\n",
       "        [0.07476636, 0.        , 0.58078141, 0.20851298]],\n",
       "\n",
       "       [[0.28971963, 0.        , 0.48574446, 0.30455921],\n",
       "        [0.28037383, 0.14285714, 0.48574446, 0.30290799],\n",
       "        [0.23364486, 0.        , 0.47870468, 0.29933034],\n",
       "        ...,\n",
       "        [0.06542056, 0.        , 0.58078141, 0.23227227],\n",
       "        [0.07476636, 0.        , 0.58078141, 0.20851298],\n",
       "        [0.10280374, 0.14285714, 0.58078141, 0.18282726]],\n",
       "\n",
       "       ...,\n",
       "\n",
       "       [[0.24299065, 0.14285714, 0.51143963, 0.28456105],\n",
       "        [0.18691589, 0.        , 0.51847941, 0.2788735 ],\n",
       "        [0.08411215, 0.        , 0.51847941, 0.26997523],\n",
       "        ...,\n",
       "        [0.05607477, 0.14285714, 0.65575502, 0.        ],\n",
       "        [0.06542056, 0.        , 0.66279479, 0.01119163],\n",
       "        [0.01869159, 0.        , 0.66631468, 0.02577745]],\n",
       "\n",
       "       [[0.18691589, 0.        , 0.51847941, 0.2788735 ],\n",
       "        [0.08411215, 0.        , 0.51847941, 0.26997523],\n",
       "        [0.08411215, 0.        , 0.51847941, 0.26263646],\n",
       "        ...,\n",
       "        [0.06542056, 0.        , 0.66279479, 0.01119163],\n",
       "        [0.01869159, 0.        , 0.66631468, 0.02577745],\n",
       "        [0.01869159, 0.        , 0.66631468, 0.03495092]],\n",
       "\n",
       "       [[0.08411215, 0.        , 0.51847941, 0.26997523],\n",
       "        [0.08411215, 0.        , 0.51847941, 0.26263646],\n",
       "        [0.07476636, 0.        , 0.52164731, 0.25621503],\n",
       "        ...,\n",
       "        [0.01869159, 0.        , 0.66631468, 0.02577745],\n",
       "        [0.01869159, 0.        , 0.66631468, 0.03495092],\n",
       "        [0.02803738, 0.        , 0.67687434, 0.04696817]]])"
      ]
     },
     "execution_count": 148,
     "metadata": {},
     "output_type": "execute_result"
    }
   ],
   "source": [
    "test_generator[0][0]"
   ]
  },
  {
   "cell_type": "code",
   "execution_count": 149,
   "id": "24913c13-2ffa-4d13-8eb2-1dc33e468226",
   "metadata": {},
   "outputs": [],
   "source": [
    "model = tf.keras.Sequential()\n",
    "model.add(tf.keras.layers.LSTM(128, input_shape = (win_length,num_features), return_sequences = True))\n",
    "#return_Sequences = True, would give hidden sequences for each input\n",
    "\n",
    "# return_sequences=True: This means that the LSTM will return the full sequence of outputs for each input sequence.\n",
    "# Specifically, for each time step in the input sequence, the LSTM produces an output. \n",
    "# This is useful when you want to pass the output of the LSTM layer to another recurrent layer or \n",
    "# when you need the outputs for each time step (for example, in sequence-to-sequence models)."
   ]
  },
  {
   "cell_type": "code",
   "execution_count": 150,
   "id": "ce2914e8-59bf-462a-9650-52ae1afb17ca",
   "metadata": {},
   "outputs": [],
   "source": [
    "model.add(tf.keras.layers.LeakyReLU(alpha= 0.5))"
   ]
  },
  {
   "cell_type": "code",
   "execution_count": 151,
   "id": "a4e930ce-6b95-4809-9f1e-bcdc089c0e07",
   "metadata": {},
   "outputs": [],
   "source": [
    "model.add(tf.keras.layers.LSTM(128, return_sequences = True))"
   ]
  },
  {
   "cell_type": "code",
   "execution_count": 152,
   "id": "3d558c6a-4cd5-494d-ae7c-b848b1edec00",
   "metadata": {},
   "outputs": [],
   "source": [
    "model.add(tf.keras.layers.LeakyReLU(alpha= 0.5))\n",
    "model.add(tf.keras.layers.Dropout(0.3))"
   ]
  },
  {
   "cell_type": "code",
   "execution_count": 153,
   "id": "7812c0cc-a32b-4693-8cae-b2c05f18a501",
   "metadata": {},
   "outputs": [],
   "source": [
    "model.add(tf.keras.layers.LSTM(64, return_sequences = False))\n",
    "# here return seq is false since we want one representation out of it\n",
    "# we dont want one rep out of each neuron\n",
    "# if we do the later then we would have to flatten the layer\n",
    "model.add(tf.keras.layers.Dropout(0.3))\n",
    "model.add(tf.keras.layers.Dense(1))"
   ]
  },
  {
   "cell_type": "code",
   "execution_count": 154,
   "id": "2f79af87-1295-4969-867e-dc07378d59fa",
   "metadata": {},
   "outputs": [
    {
     "name": "stdout",
     "output_type": "stream",
     "text": [
      "Model: \"sequential_5\"\n",
      "_________________________________________________________________\n",
      " Layer (type)                Output Shape              Param #   \n",
      "=================================================================\n",
      " lstm_16 (LSTM)              (None, 720, 128)          68096     \n",
      "                                                                 \n",
      " leaky_re_lu_10 (LeakyReLU)  (None, 720, 128)          0         \n",
      "                                                                 \n",
      " lstm_17 (LSTM)              (None, 720, 128)          131584    \n",
      "                                                                 \n",
      " leaky_re_lu_11 (LeakyReLU)  (None, 720, 128)          0         \n",
      "                                                                 \n",
      " dropout_10 (Dropout)        (None, 720, 128)          0         \n",
      "                                                                 \n",
      " lstm_18 (LSTM)              (None, 64)                49408     \n",
      "                                                                 \n",
      " dropout_11 (Dropout)        (None, 64)                0         \n",
      "                                                                 \n",
      " dense_6 (Dense)             (None, 1)                 65        \n",
      "                                                                 \n",
      "=================================================================\n",
      "Total params: 249153 (973.25 KB)\n",
      "Trainable params: 249153 (973.25 KB)\n",
      "Non-trainable params: 0 (0.00 Byte)\n",
      "_________________________________________________________________\n"
     ]
    }
   ],
   "source": [
    "model.summary()"
   ]
  },
  {
   "cell_type": "code",
   "execution_count": 155,
   "id": "a2c065ae-6e61-44e9-b4b4-38444efa6f27",
   "metadata": {},
   "outputs": [
    {
     "name": "stdout",
     "output_type": "stream",
     "text": [
      "Epoch 1/50\n",
      "471/471 [==============================] - 503s 1s/step - loss: 0.0081 - mean_absolute_error: 0.0495 - val_loss: 0.0063 - val_mean_absolute_error: 0.0347\n",
      "Epoch 2/50\n",
      "471/471 [==============================] - 476s 1s/step - loss: 0.0066 - mean_absolute_error: 0.0430 - val_loss: 0.0059 - val_mean_absolute_error: 0.0410\n",
      "Epoch 3/50\n",
      "471/471 [==============================] - 477s 1s/step - loss: 0.0046 - mean_absolute_error: 0.0350 - val_loss: 0.0043 - val_mean_absolute_error: 0.0348\n",
      "Epoch 4/50\n",
      "471/471 [==============================] - 543s 1s/step - loss: 0.0042 - mean_absolute_error: 0.0326 - val_loss: 0.0046 - val_mean_absolute_error: 0.0402\n",
      "Epoch 5/50\n",
      "471/471 [==============================] - 516s 1s/step - loss: 0.0041 - mean_absolute_error: 0.0317 - val_loss: 0.0043 - val_mean_absolute_error: 0.0380\n"
     ]
    }
   ],
   "source": [
    "early_stopping = tf.keras.callbacks.EarlyStopping(monitor = 'val_loss', patience = 2, mode = 'min')\n",
    "model.compile(loss = tf.losses.MeanSquaredError(), optimizer = tf.optimizers.Adam(), metrics = [tf.metrics.MeanAbsoluteError()])\n",
    "history = model.fit(train_generator, epochs = 50, validation_data = test_generator, shuffle = False, callbacks = [early_stopping])"
   ]
  },
  {
   "cell_type": "code",
   "execution_count": 156,
   "id": "3b18f71a-f426-43e6-8c00-2f777c483175",
   "metadata": {},
   "outputs": [
    {
     "name": "stdout",
     "output_type": "stream",
     "text": [
      "(32, 720, 4)\n",
      "(32,)\n"
     ]
    }
   ],
   "source": [
    "x_batch, y_batch = train_generator[0]  # Get the first batch\n",
    "print(x_batch.shape)  # Should be (batch_size, win_length, num_features)\n",
    "print(y_batch.shape)  # Should be (batch_size, 1) since it's a single target\n"
   ]
  },
  {
   "cell_type": "code",
   "execution_count": 157,
   "id": "cb707cd9-8c96-4695-b239-682aab555a23",
   "metadata": {},
   "outputs": [],
   "source": [
    "## here we should have used validation set seprately we have not so checking final perfomance on the test set itself"
   ]
  },
  {
   "cell_type": "code",
   "execution_count": 159,
   "id": "97cece8d-1286-4778-8304-7bf2bda2c3de",
   "metadata": {},
   "outputs": [
    {
     "name": "stderr",
     "output_type": "stream",
     "text": [
      "C:\\Users\\thaku\\AppData\\Local\\Temp\\ipykernel_11996\\1828663309.py:1: UserWarning: `Model.evaluate_generator` is deprecated and will be removed in a future version. Please use `Model.evaluate`, which supports generators.\n",
      "  model.evaluate_generator(test_generator, verbose = 0)\n"
     ]
    },
    {
     "data": {
      "text/plain": [
       "[0.004318874794989824, 0.03796793520450592]"
      ]
     },
     "execution_count": 159,
     "metadata": {},
     "output_type": "execute_result"
    }
   ],
   "source": [
    "model.evaluate_generator(test_generator, verbose = 0)"
   ]
  },
  {
   "cell_type": "code",
   "execution_count": 160,
   "id": "2be30b58-613c-41a8-a23e-4e853c532947",
   "metadata": {},
   "outputs": [
    {
     "name": "stderr",
     "output_type": "stream",
     "text": [
      "C:\\Users\\thaku\\AppData\\Local\\Temp\\ipykernel_11996\\2745777454.py:1: UserWarning: `Model.predict_generator` is deprecated and will be removed in a future version. Please use `Model.predict`, which supports generators.\n",
      "  predictions = model.predict_generator(test_generator)\n"
     ]
    }
   ],
   "source": [
    "predictions = model.predict_generator(test_generator)"
   ]
  },
  {
   "cell_type": "code",
   "execution_count": null,
   "id": "bbecc71c-9abd-4d9e-a2b0-19c452f7d3ec",
   "metadata": {},
   "outputs": [],
   "source": [
    "predictions.shape() # number of output less than window size since for lat window no output"
   ]
  },
  {
   "cell_type": "code",
   "execution_count": 161,
   "id": "bea044fd-78d5-4d24-8e9b-0bb91f39ac90",
   "metadata": {},
   "outputs": [
    {
     "data": {
      "text/plain": [
       "array([0.3364486 , 0.54205607, 0.28971963, ..., 0.24299065, 0.38317757,\n",
       "       0.39252336])"
      ]
     },
     "execution_count": 161,
     "metadata": {},
     "output_type": "execute_result"
    }
   ],
   "source": [
    "y_test # would be scaled values"
   ]
  },
  {
   "cell_type": "code",
   "execution_count": 162,
   "id": "0156c439-d3ed-402d-8ded-8c77a2c8d638",
   "metadata": {},
   "outputs": [
    {
     "data": {
      "text/plain": [
       "array([[0.3364486 , 0.        , 0.48574446, 0.30923768],\n",
       "       [0.54205607, 0.        , 0.48574446, 0.3055683 ],\n",
       "       [0.28971963, 0.        , 0.48574446, 0.30455921],\n",
       "       ...,\n",
       "       [0.24299065, 0.14285714, 0.91974657, 0.53866618],\n",
       "       [0.38317757, 0.14285714, 0.91974657, 0.54949087],\n",
       "       [0.39252336, 0.14285714, 0.91974657, 0.53875791]])"
      ]
     },
     "execution_count": 162,
     "metadata": {},
     "output_type": "execute_result"
    }
   ],
   "source": [
    "x_test"
   ]
  },
  {
   "cell_type": "code",
   "execution_count": null,
   "id": "f483497e-7358-4a54-a328-ae494e273557",
   "metadata": {},
   "outputs": [],
   "source": [
    "x_test[:]"
   ]
  },
  {
   "cell_type": "raw",
   "id": "5a15cf58-6f2a-4576-a8a8-e461398e631a",
   "metadata": {},
   "source": [
    "When you use this generator for prediction or inference, you will indeed have predictions that are reduced in size by the length of the window:\n",
    "If your original data has 10,000 time steps, and you're generating sequences of 720 time steps, the first valid prediction will correspond\n",
    "to the first full sequence (i.e., predictions will be available starting from the 720th time step).\n",
    "This means that the first 719 time steps will not have predictions because the model needs a full window of 720 steps to make a prediction."
   ]
  },
  {
   "cell_type": "code",
   "execution_count": 163,
   "id": "fa8b3f7c-3dac-44b7-8e95-b8945f8a132e",
   "metadata": {},
   "outputs": [
    {
     "data": {
      "text/plain": [
       "array([[0.        , 0.58078141, 0.20851298],\n",
       "       [0.14285714, 0.58078141, 0.18282726],\n",
       "       [0.        , 0.58078141, 0.18466196],\n",
       "       ...,\n",
       "       [0.14285714, 0.91974657, 0.53866618],\n",
       "       [0.14285714, 0.91974657, 0.54949087],\n",
       "       [0.14285714, 0.91974657, 0.53875791]])"
      ]
     },
     "execution_count": 163,
     "metadata": {},
     "output_type": "execute_result"
    }
   ],
   "source": [
    "x_test[:,1:][win_length:]\n",
    "#rows taken from 720 and forward"
   ]
  },
  {
   "cell_type": "code",
   "execution_count": 165,
   "id": "57bb26c4-e2b2-4459-86ba-91411e19b6c4",
   "metadata": {},
   "outputs": [],
   "source": [
    "df_pred = pd.concat([pd.DataFrame(predictions),pd.DataFrame(x_test[:,1:][win_length:])], axis =1)\n",
    "# here we are removing the actual first attricute and append our prediciions in place"
   ]
  },
  {
   "cell_type": "code",
   "execution_count": 166,
   "id": "26531ec1-38a6-401e-9a56-be9ba4a3e375",
   "metadata": {},
   "outputs": [],
   "source": [
    "rev_trans = scaler.inverse_transform(df_pred)\n",
    "# min max reversed"
   ]
  },
  {
   "cell_type": "code",
   "execution_count": 167,
   "id": "7637a494-9c7d-4b87-8dac-d2032f9fea3e",
   "metadata": {},
   "outputs": [
    {
     "data": {
      "text/plain": [
       "array([[ 78.37220423,   0.        ,  22.29      ,  34.6       ],\n",
       "       [ 96.28392637,  10.        ,  22.29      ,  33.66666667],\n",
       "       [126.02643587,   0.        ,  22.29      ,  33.73333333],\n",
       "       ...,\n",
       "       [ 39.12474783,  10.        ,  25.5       ,  46.59666667],\n",
       "       [202.49356389,  10.        ,  25.5       ,  46.99      ],\n",
       "       [245.12073532,  10.        ,  25.5       ,  46.6       ]])"
      ]
     },
     "execution_count": 167,
     "metadata": {},
     "output_type": "execute_result"
    }
   ],
   "source": [
    "rev_trans"
   ]
  },
  {
   "cell_type": "code",
   "execution_count": 168,
   "id": "96837512-367d-4161-a490-99acde170d9a",
   "metadata": {},
   "outputs": [],
   "source": [
    "# this was the original datafreme before train test\n",
    "df_final = df_input[predictions.shape[0]*-1:]\n",
    "# -1 helps to take from last"
   ]
  },
  {
   "cell_type": "code",
   "execution_count": 169,
   "id": "365cff8f-8de8-4682-87d0-76d1e2ffd0fb",
   "metadata": {},
   "outputs": [
    {
     "data": {
      "text/plain": [
       "Appliances    3227\n",
       "lights        3227\n",
       "T1            3227\n",
       "RH_1          3227\n",
       "dtype: int64"
      ]
     },
     "execution_count": 169,
     "metadata": {},
     "output_type": "execute_result"
    }
   ],
   "source": [
    "df_final.count()"
   ]
  },
  {
   "cell_type": "code",
   "execution_count": 170,
   "id": "003bbd7a-cb6b-4dea-8546-dad11c940664",
   "metadata": {},
   "outputs": [
    {
     "name": "stderr",
     "output_type": "stream",
     "text": [
      "C:\\Users\\thaku\\AppData\\Local\\Temp\\ipykernel_11996\\866575972.py:1: SettingWithCopyWarning: \n",
      "A value is trying to be set on a copy of a slice from a DataFrame.\n",
      "Try using .loc[row_indexer,col_indexer] = value instead\n",
      "\n",
      "See the caveats in the documentation: https://pandas.pydata.org/pandas-docs/stable/user_guide/indexing.html#returning-a-view-versus-a-copy\n",
      "  df_final['pred_value'] = rev_trans[:,0]\n"
     ]
    }
   ],
   "source": [
    "df_final['pred_value'] = rev_trans[:,0]"
   ]
  },
  {
   "cell_type": "code",
   "execution_count": 171,
   "id": "49927d38-dec8-4153-92e7-36fd1a4e67dc",
   "metadata": {},
   "outputs": [
    {
     "data": {
      "text/plain": [
       "<Axes: >"
      ]
     },
     "execution_count": 171,
     "metadata": {},
     "output_type": "execute_result"
    },
    {
     "data": {
      "image/png": "[encoded data removed]",
      "text/plain": [
       "<Figure size 1000x800 with 1 Axes>"
      ]
     },
     "metadata": {},
     "output_type": "display_data"
    }
   ],
   "source": [
    "df_final[['Appliances','pred_value']].plot()"
   ]
  },
  {
   "cell_type": "code",
   "execution_count": null,
   "id": "4b3dc519-1046-4364-af40-7170f1d58b95",
   "metadata": {},
   "outputs": [],
   "source": []
  },
  {
   "cell_type": "code",
   "execution_count": null,
   "id": "840addbb-f22a-4ad5-8358-8d64f157ce9a",
   "metadata": {},
   "outputs": [],
   "source": []
  },
  {
   "cell_type": "code",
   "execution_count": null,
   "id": "d3e0c82c-c3a9-4bda-8667-326c415bbf45",
   "metadata": {},
   "outputs": [],
   "source": []
  },
  {
   "cell_type": "code",
   "execution_count": null,
   "id": "77af243a-cfbc-49a5-8eb6-80b81d8ab128",
   "metadata": {},
   "outputs": [],
   "source": []
  }
 ],
 "metadata": {
  "kernelspec": {
   "display_name": "Python 3 (ipykernel)",
   "language": "python",
   "name": "python3"
  },
  "language_info": {
   "codemirror_mode": {
    "name": "ipython",
    "version": 3
   },
   "file_extension": ".py",
   "mimetype": "text/x-python",
   "name": "python",
   "nbconvert_exporter": "python",
   "pygments_lexer": "ipython3",
   "version": "3.11.9"
  }
 },
 "nbformat": 4,
 "nbformat_minor": 5
}
