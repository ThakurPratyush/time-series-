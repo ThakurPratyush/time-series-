{
 "cells": [
  {
   "cell_type": "raw",
   "id": "ee1f173f-bc0b-4f33-806b-cfa9f2e2168d",
   "metadata": {},
   "source": [
    "if we have time series data \n",
    "we want  to use regular ML / XGBOOST model , we need to cinvert time series into features\n"
   ]
  },
  {
   "cell_type": "raw",
   "id": "4c4aebd2-c08e-4a30-887d-f89486e1722d",
   "metadata": {},
   "source": []
  }
 ],
 "metadata": {
  "kernelspec": {
   "display_name": "Python 3 (ipykernel)",
   "language": "python",
   "name": "python3"
  },
  "language_info": {
   "codemirror_mode": {
    "name": "ipython",
    "version": 3
   },
   "file_extension": ".py",
   "mimetype": "text/x-python",
   "name": "python",
   "nbconvert_exporter": "python",
   "pygments_lexer": "ipython3",
   "version": "3.9.19"
  }
 },
 "nbformat": 4,
 "nbformat_minor": 5
}
