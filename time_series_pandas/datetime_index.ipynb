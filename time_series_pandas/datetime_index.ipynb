{
 "cells": [
  {
   "cell_type": "code",
   "execution_count": 1,
   "id": "3ab0293e-5a5c-4bd1-97e2-4a24dc1e0200",
   "metadata": {},
   "outputs": [],
   "source": [
    "from datetime import datetime"
   ]
  },
  {
   "cell_type": "code",
   "execution_count": 2,
   "id": "ddf77ba0-b7ac-441d-bb1a-132a35a24e7c",
   "metadata": {},
   "outputs": [],
   "source": [
    "my_year = 2020\n",
    "my_month = 1\n",
    "my_day = 2\n",
    "my_hour = 13\n",
    "my_min = 30\n",
    "my_sec = 45"
   ]
  },
  {
   "cell_type": "code",
   "execution_count": 3,
   "id": "e3933ddb-0327-411a-806f-04b271aa3d3e",
   "metadata": {},
   "outputs": [],
   "source": [
    "my_date = datetime(my_year, my_month , my_day)"
   ]
  },
  {
   "cell_type": "code",
   "execution_count": 4,
   "id": "0ad8ed77-02af-42bb-9847-ca2b82a57465",
   "metadata": {},
   "outputs": [
    {
     "data": {
      "text/plain": [
       "datetime.datetime(2020, 1, 2, 0, 0)"
      ]
     },
     "execution_count": 4,
     "metadata": {},
     "output_type": "execute_result"
    }
   ],
   "source": [
    "my_date"
   ]
  },
  {
   "cell_type": "code",
   "execution_count": 5,
   "id": "b9cf8d19-fdc4-4467-add4-b7915965a2f2",
   "metadata": {},
   "outputs": [],
   "source": [
    "my_datetime = datetime(my_year, my_month, my_day, my_hour,my_sec)"
   ]
  },
  {
   "cell_type": "code",
   "execution_count": 6,
   "id": "831d2cd2-4d19-4d6c-b2be-1e0f4166ccca",
   "metadata": {},
   "outputs": [
    {
     "data": {
      "text/plain": [
       "datetime.datetime(2020, 1, 2, 13, 45)"
      ]
     },
     "execution_count": 6,
     "metadata": {},
     "output_type": "execute_result"
    }
   ],
   "source": [
    "my_datetime"
   ]
  },
  {
   "cell_type": "code",
   "execution_count": 7,
   "id": "900d9408-d964-44a6-9d2b-a34894206e59",
   "metadata": {},
   "outputs": [
    {
     "data": {
      "text/plain": [
       "13"
      ]
     },
     "execution_count": 7,
     "metadata": {},
     "output_type": "execute_result"
    }
   ],
   "source": [
    " my_datetime.hour"
   ]
  },
  {
   "cell_type": "code",
   "execution_count": 8,
   "id": "21dfacc2-d963-426f-9db5-577cc1ceea74",
   "metadata": {},
   "outputs": [
    {
     "data": {
      "text/plain": [
       "datetime.datetime"
      ]
     },
     "execution_count": 8,
     "metadata": {},
     "output_type": "execute_result"
    }
   ],
   "source": [
    "type(my_datetime)"
   ]
  },
  {
   "cell_type": "code",
   "execution_count": 10,
   "id": "6aef80ca-12c2-4032-9853-ec7f858b75d9",
   "metadata": {},
   "outputs": [],
   "source": [
    "import numpy as np"
   ]
  },
  {
   "cell_type": "code",
   "execution_count": 12,
   "id": "78d5a53a-77c4-4ed1-997f-69f4b67f53f0",
   "metadata": {},
   "outputs": [
    {
     "data": {
      "text/plain": [
       "array(['2020-02-01', '2021-03-01', '2024-09-24'], dtype='datetime64[D]')"
      ]
     },
     "execution_count": 12,
     "metadata": {},
     "output_type": "execute_result"
    }
   ],
   "source": [
    "np.array(['2020-02-01','2021-03-01','2024-09-24'],dtype = 'datetime64')"
   ]
  },
  {
   "cell_type": "code",
   "execution_count": 13,
   "id": "58916765-6a3f-4c40-9052-c74724a09948",
   "metadata": {},
   "outputs": [],
   "source": [
    "# datetime64 means 64 bit datetime objecyt, D means daylevel preciision "
   ]
  },
  {
   "cell_type": "code",
   "execution_count": 14,
   "id": "68043558-eb5b-4576-98be-5198460df40d",
   "metadata": {},
   "outputs": [
    {
     "data": {
      "text/plain": [
       "array(['2020', '2021', '2024'], dtype='datetime64[Y]')"
      ]
     },
     "execution_count": 14,
     "metadata": {},
     "output_type": "execute_result"
    }
   ],
   "source": [
    "np.array(['2020-02-01','2021-03-01','2024-09-24'],dtype = 'datetime64[Y]')"
   ]
  },
  {
   "cell_type": "code",
   "execution_count": 17,
   "id": "82745406-260c-4031-bf66-c5b8de252c7a",
   "metadata": {},
   "outputs": [
    {
     "data": {
      "text/plain": [
       "array(['2020-01-24', '2020-01-25', '2020-01-26', '2020-01-27',\n",
       "       '2020-01-28', '2020-01-29', '2020-01-30', '2020-01-31',\n",
       "       '2020-02-01', '2020-02-02', '2020-02-03', '2020-02-04',\n",
       "       '2020-02-05', '2020-02-06', '2020-02-07', '2020-02-08',\n",
       "       '2020-02-09', '2020-02-10', '2020-02-11', '2020-02-12',\n",
       "       '2020-02-13', '2020-02-14', '2020-02-15', '2020-02-16',\n",
       "       '2020-02-17', '2020-02-18', '2020-02-19', '2020-02-20',\n",
       "       '2020-02-21', '2020-02-22', '2020-02-23', '2020-02-24',\n",
       "       '2020-02-25', '2020-02-26', '2020-02-27', '2020-02-28',\n",
       "       '2020-02-29', '2020-03-01', '2020-03-02', '2020-03-03',\n",
       "       '2020-03-04', '2020-03-05', '2020-03-06', '2020-03-07',\n",
       "       '2020-03-08', '2020-03-09', '2020-03-10', '2020-03-11',\n",
       "       '2020-03-12', '2020-03-13', '2020-03-14', '2020-03-15',\n",
       "       '2020-03-16', '2020-03-17', '2020-03-18', '2020-03-19',\n",
       "       '2020-03-20', '2020-03-21', '2020-03-22', '2020-03-23'],\n",
       "      dtype='datetime64[D]')"
      ]
     },
     "execution_count": 17,
     "metadata": {},
     "output_type": "execute_result"
    }
   ],
   "source": [
    "np.arange('2020-01-24','2020-03-24',dtype = 'datetime64[D]')"
   ]
  },
  {
   "cell_type": "code",
   "execution_count": 19,
   "id": "b55fe33b-132e-4605-8548-27794c365116",
   "metadata": {},
   "outputs": [
    {
     "data": {
      "text/plain": [
       "array(['2020-01', '2020-02', '2020-03', '2020-04', '2020-05'],\n",
       "      dtype='datetime64[M]')"
      ]
     },
     "execution_count": 19,
     "metadata": {},
     "output_type": "execute_result"
    }
   ],
   "source": [
    "np.arange('2020-01-24','2020-06-25',dtype = 'datetime64[M]')"
   ]
  },
  {
   "cell_type": "code",
   "execution_count": 20,
   "id": "781b4802-9d75-4a78-b035-9e30e06ee743",
   "metadata": {},
   "outputs": [
    {
     "data": {
      "text/plain": [
       "array(['1998', '1999', '2000', '2001', '2002', '2003', '2004', '2005',\n",
       "       '2006', '2007', '2008', '2009', '2010', '2011', '2012', '2013',\n",
       "       '2014', '2015', '2016', '2017', '2018', '2019'],\n",
       "      dtype='datetime64[Y]')"
      ]
     },
     "execution_count": 20,
     "metadata": {},
     "output_type": "execute_result"
    }
   ],
   "source": [
    "np.arange('1998','2020',dtype = 'datetime64[Y]')"
   ]
  },
  {
   "cell_type": "markdown",
   "id": "8aa89e87-7f1c-4462-a1e2-d837919f4150",
   "metadata": {},
   "source": [
    "### pandas datetime index"
   ]
  },
  {
   "cell_type": "code",
   "execution_count": 21,
   "id": "320d0379-b1cd-4285-a7ff-146cf2327970",
   "metadata": {},
   "outputs": [],
   "source": [
    "import pandas as pd"
   ]
  },
  {
   "cell_type": "code",
   "execution_count": 22,
   "id": "07314b8f-4d12-47f1-a473-a93193875c44",
   "metadata": {},
   "outputs": [
    {
     "data": {
      "text/plain": [
       "DatetimeIndex(['2020-01-01', '2020-01-02', '2020-01-03', '2020-01-04',\n",
       "               '2020-01-05', '2020-01-06', '2020-01-07'],\n",
       "              dtype='datetime64[ns]', freq='D')"
      ]
     },
     "execution_count": 22,
     "metadata": {},
     "output_type": "execute_result"
    }
   ],
   "source": [
    "pd.date_range('2020-01-01',periods = 7, freq = 'D')"
   ]
  },
  {
   "cell_type": "code",
   "execution_count": 23,
   "id": "a7f513e7-a07b-47ff-a74e-266ac88c3c4c",
   "metadata": {},
   "outputs": [
    {
     "data": {
      "text/plain": [
       "DatetimeIndex(['2018-01-01', '2018-01-02', '2018-01-03', '2018-01-04',\n",
       "               '2018-01-05', '2018-01-06', '2018-01-07'],\n",
       "              dtype='datetime64[ns]', freq='D')"
      ]
     },
     "execution_count": 23,
     "metadata": {},
     "output_type": "execute_result"
    }
   ],
   "source": [
    "pd.date_range('Jan 01 2018',periods = 7, freq = 'D')"
   ]
  },
  {
   "cell_type": "code",
   "execution_count": 24,
   "id": "3ad5d346-2326-4f4a-8ade-1136b9a27e07",
   "metadata": {},
   "outputs": [
    {
     "data": {
      "text/plain": [
       "DatetimeIndex(['2018-01-01', '2018-01-02', '2018-01-03', '2018-01-04',\n",
       "               '2018-01-05', '2018-01-06', '2018-01-07'],\n",
       "              dtype='datetime64[ns]', freq='D')"
      ]
     },
     "execution_count": 24,
     "metadata": {},
     "output_type": "execute_result"
    }
   ],
   "source": [
    "pd.date_range('Jan 01, 2018',periods = 7, freq = 'D')"
   ]
  },
  {
   "cell_type": "code",
   "execution_count": 32,
   "id": "548790d8-8f1d-4159-b198-857d90d24e11",
   "metadata": {},
   "outputs": [
    {
     "data": {
      "text/plain": [
       "DatetimeIndex(['2018-02-01', '2018-03-01'], dtype='datetime64[ns]', freq=None)"
      ]
     },
     "execution_count": 32,
     "metadata": {},
     "output_type": "execute_result"
    }
   ],
   "source": [
    "pd.to_datetime(['2/1/2018','3/1/2018'])\n",
    "\n",
    "# giving the format in which we want to specify the data\n",
    "# by default using :     m/d/yyyy"
   ]
  },
  {
   "cell_type": "code",
   "execution_count": 42,
   "id": "29d44d38-6857-44ec-b6ed-b38b3a69e53a",
   "metadata": {},
   "outputs": [
    {
     "data": {
      "text/plain": [
       "DatetimeIndex(['2018-02-01', '2018-03-01'], dtype='datetime64[ns]', freq=None)"
      ]
     },
     "execution_count": 42,
     "metadata": {},
     "output_type": "execute_result"
    }
   ],
   "source": [
    "pd.to_datetime(['2/1/2018','3/1/2018'], format=\"%m/%d/%Y\")"
   ]
  },
  {
   "cell_type": "code",
   "execution_count": 43,
   "id": "36802d40-f48f-415c-b091-6da027ad44e8",
   "metadata": {},
   "outputs": [
    {
     "name": "stdout",
     "output_type": "stream",
     "text": [
      "[[-0.39380317  0.84314771]\n",
      " [-0.49459741  1.1466666 ]\n",
      " [ 1.57889053 -0.46199127]]\n"
     ]
    }
   ],
   "source": [
    "data = np.random.randn(3,2)\n",
    "cols= ['A','B']\n",
    "print(data)"
   ]
  },
  {
   "cell_type": "code",
   "execution_count": 45,
   "id": "b0f75027-477c-4b50-ade3-148be07020fd",
   "metadata": {},
   "outputs": [
    {
     "data": {
      "text/plain": [
       "DatetimeIndex(['2020-01-01', '2020-01-02', '2020-01-03'], dtype='datetime64[ns]', freq='D')"
      ]
     },
     "execution_count": 45,
     "metadata": {},
     "output_type": "execute_result"
    }
   ],
   "source": [
    "idx = pd.date_range('2020-01-01', periods = 3, freq = 'd')\n",
    "idx"
   ]
  },
  {
   "cell_type": "code",
   "execution_count": 46,
   "id": "7d0c9d54-e430-41f7-98fd-8d802d696964",
   "metadata": {},
   "outputs": [],
   "source": [
    "df = pd.DataFrame(data, index = idx, columns = cols)"
   ]
  },
  {
   "cell_type": "code",
   "execution_count": 48,
   "id": "237df95d-ab9a-47f4-b15b-ce3eac602348",
   "metadata": {},
   "outputs": [
    {
     "data": {
      "text/plain": [
       "DatetimeIndex(['2020-01-01', '2020-01-02', '2020-01-03'], dtype='datetime64[ns]', freq='D')"
      ]
     },
     "execution_count": 48,
     "metadata": {},
     "output_type": "execute_result"
    }
   ],
   "source": [
    "df.index\n",
    "# pandas knows it is datetime"
   ]
  },
  {
   "cell_type": "code",
   "execution_count": 49,
   "id": "cbe4e1ae-1bb2-4152-9038-ebd1596aaa3a",
   "metadata": {},
   "outputs": [
    {
     "data": {
      "text/plain": [
       "Timestamp('2020-01-03 00:00:00')"
      ]
     },
     "execution_count": 49,
     "metadata": {},
     "output_type": "execute_result"
    }
   ],
   "source": [
    "df.index.max()"
   ]
  },
  {
   "cell_type": "code",
   "execution_count": 50,
   "id": "2e9c6fe5-3181-45d1-b866-8809b26546ec",
   "metadata": {},
   "outputs": [
    {
     "data": {
      "text/plain": [
       "2"
      ]
     },
     "execution_count": 50,
     "metadata": {},
     "output_type": "execute_result"
    }
   ],
   "source": [
    "df.index.argmax()"
   ]
  },
  {
   "cell_type": "code",
   "execution_count": null,
   "id": "80657ce9-ce91-40dd-bedb-8e0f817f39b2",
   "metadata": {},
   "outputs": [],
   "source": []
  }
 ],
 "metadata": {
  "kernelspec": {
   "display_name": "Python 3 (ipykernel)",
   "language": "python",
   "name": "python3"
  },
  "language_info": {
   "codemirror_mode": {
    "name": "ipython",
    "version": 3
   },
   "file_extension": ".py",
   "mimetype": "text/x-python",
   "name": "python",
   "nbconvert_exporter": "python",
   "pygments_lexer": "ipython3",
   "version": "3.9.19"
  }
 },
 "nbformat": 4,
 "nbformat_minor": 5
}
